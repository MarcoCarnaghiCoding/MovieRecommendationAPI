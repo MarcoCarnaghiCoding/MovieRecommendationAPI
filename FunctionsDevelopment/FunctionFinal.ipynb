{
 "cells": [
  {
   "cell_type": "code",
   "execution_count": 1,
   "metadata": {},
   "outputs": [],
   "source": [
    "import pandas as pd"
   ]
  },
  {
   "cell_type": "code",
   "execution_count": 2,
   "metadata": {},
   "outputs": [],
   "source": [
    "filepath = './datasets/'\n",
    "\n",
    "df_movies = pd.read_csv(filepath+'df_movies_clean.csv')\n",
    "\n",
    "df_cast = pd.read_csv(filepath+'df_cast.csv')\n",
    "\n",
    "df_crew = pd.read_csv(filepath+'df_crew.csv')"
   ]
  },
  {
   "cell_type": "code",
   "execution_count": 3,
   "metadata": {},
   "outputs": [],
   "source": [
    "\n",
    "# CANTIDAD_FILMACiONES_MES\n",
    "def cantidad_filmaciones_mes( mes:str ):\n",
    "  '''\n",
    "  Se ingresa un mes en idioma Español.\n",
    "  Debe devolver la cantidad de películas que fueron estrenadas en el mes consultado en la totalidad del dataset.\n",
    "\n",
    "  Ejemplo de retorno: X cantidad de películas fueron estrenadas en el mes de X\n",
    "  '''\n",
    "  month_map = {\n",
    "    'enero': 1,\n",
    "    'febrero': 2,\n",
    "    'marzo': 3,\n",
    "    'abril': 4,\n",
    "    'mayo': 5,\n",
    "    'junio': 6,\n",
    "    'julio': 7,\n",
    "    'agosto': 8,\n",
    "    'septiembre': 9,\n",
    "    'octubre': 10,\n",
    "    'noviembre': 11,\n",
    "    'diciembre': 12\n",
    "  }\n",
    "\n",
    "  month_number = month_map.get(mes.lower())\n",
    "\n",
    "  # Set the release_date column to a datetime format\n",
    "  df_movies['release_date'] = pd.to_datetime(df_movies['release_date'], format='%Y-%m-%d')\n",
    "  # Filter the movies that were released in the specified month and count them\n",
    "  month_movies = df_movies[df_movies['release_date'].dt.month == month_number]\n",
    "  month_count = len(month_movies)\n",
    "\n",
    "  answer = {'mes':mes.lower(), 'cantidad':month_count}\n",
    "  return answer\n",
    "\n",
    "# CANTIDAD_FILMACiONES_DIA\n",
    "def cantidad_filmaciones_dia( dia:str ):\n",
    "  '''\n",
    "  Se ingresa un día en idioma Español. Debe devolver la cantidad de películas que fueron estrenadas en día consultado en la totalidad del dataset.\n",
    "                    Ejemplo de retorno: X cantidad de películas fueron estrenadas en los días X\n",
    "  '''\n",
    "  day_map = {\n",
    "    'lunes': 'Monday',\n",
    "    'martes': 'Tuesday',\n",
    "    'miércoles': 'Wednesday',\n",
    "    'miercoles': 'Wednesday',\n",
    "    'jueves': 'Thursday',\n",
    "    'viernes': 'Friday',\n",
    "    'sábado': 'Saturday',\n",
    "    'sabado': 'Saturday',\n",
    "    'domingo': 'Sunday',\n",
    "  }\n",
    "\n",
    "  day = day_map.get(dia.lower())\n",
    "  # Set the release_date column to a datetime format\n",
    "  df_movies['release_date'] = pd.to_datetime(df_movies['release_date'], format='%Y-%m-%d')\n",
    "\n",
    "  # Count the number of movies that were released on Mondays\n",
    "  day_count = len(df_movies[df_movies['release_date'].dt.day_name() == day])\n",
    "\n",
    "  answer = {'dia':dia.lower(), 'cantidad':day_count}\n",
    "  return answer\n",
    "\n",
    "# SCORE_TITULO\n",
    "def score_titulo( titulo:str ):\n",
    "  '''\n",
    "  Se ingresa el título de una filmación esperando como respuesta el título, el año de estreno y el score.\n",
    "  Ejemplo de retorno: La película X fue estrenada en el año X con un score/popularidad de X\n",
    "  '''\n",
    "\n",
    "  # Filter the DataFrame to include only the row(s) that match the title\n",
    "  movie = df_movies[df_movies['title'].str.lower() == titulo.lower()]\n",
    "\n",
    "  # Extract the values for the title, release_year, and popularity columns\n",
    "  movie_title = movie['title'].values[0]\n",
    "  release_year = movie['release_year'].values[0]\n",
    "  popularity = movie['popularity'].values[0]\n",
    "\n",
    "  # Return the movie title, release year, and popularity\n",
    "  answer = {'titulo':movie_title, 'anio':release_year, 'popularidad':popularity}\n",
    "  return answer\n",
    "\n",
    "\n",
    "# VOTOS_TITULO\n",
    "def votos_titulo(titulo:str): \n",
    "  '''\n",
    "  Se ingresa el título de una filmación esperando como respuesta:\n",
    "  * el título,\n",
    "  * la cantidad de votos\n",
    "  * el valor promedio de las votaciones\n",
    "\n",
    "  La misma variable deberá de contar con al menos 2000 valoraciones, caso contrario, debemos contar con un mensaje avisando que no cumple esta condición y que por ende, no se devuelve ningun valor.\n",
    "\n",
    "  Ejemplo de retorno: La película X fue estrenada en el año X. La misma cuenta con un total de X valoraciones, con un promedio de X\n",
    "  '''\n",
    "\n",
    "  # Filter the DataFrame to include only the row(s) that match the title\n",
    "  movie = df_movies[df_movies['title'].str.lower() == titulo.lower()]\n",
    "\n",
    "  # Extract the values for the title, release_year, and popularity columns\n",
    "  movie_title = movie['title'].values[0]\n",
    "  release_year = movie['release_year'].values[0]\n",
    "  vote_average = movie['vote_average'].values[0]\n",
    "  vote_count = movie['vote_count'].values[0]\n",
    "\n",
    "  if vote_count >= 2000.0:\n",
    "    # Return the movie title, release year, and votes\n",
    "    answer = {'titulo':movie_title,\n",
    "              'anio':release_year,\n",
    "              'voto_total':vote_count,\n",
    "              'voto_promedio':vote_average}\n",
    "    \n",
    "  else:\n",
    "      answer = {'mensaje': f'La película \"{movie_title}\" no cumple con la condición de tener al menos 2000 valoraciones.'}\n",
    "    \n",
    "    \n",
    "  return answer\n",
    "\n",
    "\n",
    "\n",
    "# GET_ACTOR\n",
    "def get_actor( nombre_actor:str ):\n",
    "\n",
    "  # Filter the cast DataFrame to include only rows for the given actor\n",
    "  actor_df = df_cast[df_cast['name'].str.lower() == nombre_actor.lower()]\n",
    "\n",
    "  # Join the actor_df with the movies_df on the 'id' column\n",
    "\n",
    "  joined_df = actor_df.merge(df_movies,\n",
    "                            left_on='movie_id',\n",
    "                            right_on='id')\n",
    "\n",
    "  # Calculate the sum and average of the 'return' column\n",
    "  return_sum = joined_df['return'].sum()\n",
    "  movies_count = joined_df['return'].count()\n",
    "  average_return = return_sum / movies_count\n",
    "\n",
    "  actor_name = actor_df['name'].iloc[0]\n",
    "\n",
    "  answer =  {'actor':actor_name,\n",
    "             'cantidad_filmaciones':movies_count,\n",
    "             'retorno_total':return_sum,\n",
    "             'retorno_promedio':average_return}\n",
    "  return answer\n",
    "\n",
    "\n",
    "# GET_DIRECTOR\n",
    "def get_director( nombre_director:str ):\n",
    "  # Filter the crew DataFrame to include only rows for the given director\n",
    "  director_df = df_crew[df_crew['name'].str.lower() == nombre_director.lower()]\n",
    "\n",
    "  director_df = director_df[director_df['job'] == 'Director']\n",
    "\n",
    "  # Join the director_df with the movies_df on the 'id' column\n",
    "  joined_df = director_df.merge(df_movies,\n",
    "                          left_on='movie_id',\n",
    "                          right_on='id')\n",
    "\n",
    "  # Calculate the sum of the 'return' column\n",
    "  return_sum = joined_df['return'].sum()\n",
    "\n",
    "  # Calculate the number of movies directed by the director\n",
    "  movie_count = director_df['movie_id'].count()\n",
    "\n",
    "  # Calculate the average return per movie\n",
    "  average_return = return_sum / movie_count\n",
    "\n",
    "  # Return a DataFrame with the movie name, release date, return, budget, and revenue\n",
    "  director_name = director_df['name'].iloc[0]\n",
    "  movie_data_df = joined_df[['title', 'release_year', 'return', 'budget', 'revenue']]\n",
    "  \n",
    "  # Convert each row to a dictionary\n",
    "  dict_list = movie_data_df.to_dict(orient='index')\n",
    "\n",
    "  # Rename the keys in each dictionary\n",
    "  for key in dict_list.keys():\n",
    "      dict_list[key] = {\n",
    "          'titulo': dict_list[key]['title'],\n",
    "          'año': dict_list[key]['release_year'],\n",
    "          'retorno': dict_list[key]['return'],\n",
    "          'budget': dict_list[key]['budget'],\n",
    "          'revenue': dict_list[key]['revenue']\n",
    "      }\n",
    "      dict_list[key].pop('title')\n",
    "      dict_list[key].pop('release_year')\n",
    "      dict_list[key].pop('return')\n",
    "      dict_list[key].pop('budget')\n",
    "      dict_list[key].pop('revenue')\n",
    "\n",
    "\n",
    "  answer = {'director':director_name,\n",
    "            'retorno_total_director':return_sum,\n",
    "            'peliculas': dict_list}\n",
    "  return answer"
   ]
  },
  {
   "cell_type": "code",
   "execution_count": 5,
   "metadata": {},
   "outputs": [
    {
     "data": {
      "text/plain": [
       "{'mes': 'marzo', 'cantidad': 3553}"
      ]
     },
     "execution_count": 5,
     "metadata": {},
     "output_type": "execute_result"
    }
   ],
   "source": [
    "cantidad_filmaciones_mes('marzo')"
   ]
  },
  {
   "cell_type": "code",
   "execution_count": 6,
   "metadata": {},
   "outputs": [
    {
     "data": {
      "text/plain": [
       "{'mes': 'abril', 'cantidad': 3453}"
      ]
     },
     "execution_count": 6,
     "metadata": {},
     "output_type": "execute_result"
    }
   ],
   "source": [
    "cantidad_filmaciones_mes('ABRiL')"
   ]
  },
  {
   "cell_type": "code",
   "execution_count": 7,
   "metadata": {},
   "outputs": [
    {
     "data": {
      "text/plain": [
       "{'dia': 'miercoles', 'cantidad': 7035}"
      ]
     },
     "execution_count": 7,
     "metadata": {},
     "output_type": "execute_result"
    }
   ],
   "source": [
    "cantidad_filmaciones_dia('miercoles')"
   ]
  },
  {
   "cell_type": "code",
   "execution_count": 8,
   "metadata": {},
   "outputs": [
    {
     "data": {
      "text/plain": [
       "{'titulo': 'Toy Story', 'anio': 1995, 'popularidad': 21.946943}"
      ]
     },
     "execution_count": 8,
     "metadata": {},
     "output_type": "execute_result"
    }
   ],
   "source": [
    "score_titulo('toy story')"
   ]
  },
  {
   "cell_type": "code",
   "execution_count": 9,
   "metadata": {},
   "outputs": [
    {
     "data": {
      "text/plain": [
       "{'titulo': 'Jumanji', 'anio': 1995, 'popularidad': 17.015539}"
      ]
     },
     "execution_count": 9,
     "metadata": {},
     "output_type": "execute_result"
    }
   ],
   "source": [
    "score_titulo('juMANji')"
   ]
  },
  {
   "cell_type": "code",
   "execution_count": 10,
   "metadata": {},
   "outputs": [
    {
     "name": "stdout",
     "output_type": "stream",
     "text": [
      "{'titulo': 'Toy Story', 'anio': 1995, 'voto_total': 5415.0, 'voto_promedio': 7.7}\n"
     ]
    }
   ],
   "source": [
    "print(votos_titulo('toy story'))"
   ]
  },
  {
   "cell_type": "code",
   "execution_count": 11,
   "metadata": {},
   "outputs": [
    {
     "name": "stdout",
     "output_type": "stream",
     "text": [
      "{'mensaje': 'La película \"Grumpier Old Men\" no cumple con la condición de tener al menos 2000 valoraciones.'}\n"
     ]
    }
   ],
   "source": [
    "print(votos_titulo('Grumpier Old Men'))"
   ]
  },
  {
   "cell_type": "code",
   "execution_count": 12,
   "metadata": {},
   "outputs": [
    {
     "name": "stdout",
     "output_type": "stream",
     "text": [
      "{'actor': 'Wallace Shawn', 'cantidad_filmaciones': 75, 'retorno_total': 50.0185446127092, 'retorno_promedio': 0.6669139281694559}\n"
     ]
    }
   ],
   "source": [
    "print(get_actor('Wallace Shawn'))"
   ]
  },
  {
   "cell_type": "code",
   "execution_count": 4,
   "metadata": {},
   "outputs": [
    {
     "ename": "KeyError",
     "evalue": "'title'",
     "output_type": "error",
     "traceback": [
      "\u001b[1;31m---------------------------------------------------------------------------\u001b[0m",
      "\u001b[1;31mKeyError\u001b[0m                                  Traceback (most recent call last)",
      "Cell \u001b[1;32mIn[4], line 1\u001b[0m\n\u001b[1;32m----> 1\u001b[0m get_director(\u001b[39m'\u001b[39;49m\u001b[39mJohn Lasseter\u001b[39;49m\u001b[39m'\u001b[39;49m)\n",
      "Cell \u001b[1;32mIn[3], line 183\u001b[0m, in \u001b[0;36mget_director\u001b[1;34m(nombre_director)\u001b[0m\n\u001b[0;32m    175\u001b[0m \u001b[39mfor\u001b[39;00m key \u001b[39min\u001b[39;00m dict_list\u001b[39m.\u001b[39mkeys():\n\u001b[0;32m    176\u001b[0m     dict_list[key] \u001b[39m=\u001b[39m {\n\u001b[0;32m    177\u001b[0m         \u001b[39m'\u001b[39m\u001b[39mtitulo\u001b[39m\u001b[39m'\u001b[39m: dict_list[key][\u001b[39m'\u001b[39m\u001b[39mtitle\u001b[39m\u001b[39m'\u001b[39m],\n\u001b[0;32m    178\u001b[0m         \u001b[39m'\u001b[39m\u001b[39maño\u001b[39m\u001b[39m'\u001b[39m: dict_list[key][\u001b[39m'\u001b[39m\u001b[39mrelease_year\u001b[39m\u001b[39m'\u001b[39m],\n\u001b[1;32m   (...)\u001b[0m\n\u001b[0;32m    181\u001b[0m         \u001b[39m'\u001b[39m\u001b[39mrevenue\u001b[39m\u001b[39m'\u001b[39m: dict_list[key][\u001b[39m'\u001b[39m\u001b[39mrevenue\u001b[39m\u001b[39m'\u001b[39m]\n\u001b[0;32m    182\u001b[0m     }\n\u001b[1;32m--> 183\u001b[0m     dict_list[key]\u001b[39m.\u001b[39;49mpop(\u001b[39m'\u001b[39;49m\u001b[39mtitle\u001b[39;49m\u001b[39m'\u001b[39;49m)\n\u001b[0;32m    184\u001b[0m     dict_list[key]\u001b[39m.\u001b[39mpop(\u001b[39m'\u001b[39m\u001b[39mrelease_year\u001b[39m\u001b[39m'\u001b[39m)\n\u001b[0;32m    185\u001b[0m     dict_list[key]\u001b[39m.\u001b[39mpop(\u001b[39m'\u001b[39m\u001b[39mreturn\u001b[39m\u001b[39m'\u001b[39m)\n",
      "\u001b[1;31mKeyError\u001b[0m: 'title'"
     ]
    }
   ],
   "source": [
    "get_director('John Lasseter')"
   ]
  },
  {
   "cell_type": "code",
   "execution_count": 14,
   "metadata": {},
   "outputs": [],
   "source": [
    "import pickle\n",
    "\n",
    "pickle.dump(df_movies.to_dict,open('df_movies_dict.pkl','wb'))\n",
    "pickle.dump(df_cast.to_dict,open('df_cast_dict.pkl','wb'))\n",
    "pickle.dump(df_crew.to_dict,open('df_crew_dict.pkl','wb'))"
   ]
  },
  {
   "cell_type": "code",
   "execution_count": 6,
   "metadata": {},
   "outputs": [
    {
     "data": {
      "text/plain": [
       "{'director': 'John Lasseter',\n",
       " 'retorno_total_director': 27.65437835777778,\n",
       " 'peliculas': {0: {'titulo': 'Toy Story',\n",
       "   'anio': 1995,\n",
       "   'retorno_pelicula': 12.4518011,\n",
       "   'budget_pelicula': 30000000,\n",
       "   'revenue_pelicula': 373554033.0},\n",
       "  1: {'titulo': \"A Bug's Life\",\n",
       "   'anio': 1998,\n",
       "   'retorno_pelicula': 3.027157158333333,\n",
       "   'budget_pelicula': 120000000,\n",
       "   'revenue_pelicula': 363258859.0},\n",
       "  2: {'titulo': 'Toy Story 2',\n",
       "   'anio': 1999,\n",
       "   'retorno_pelicula': 5.526298544444445,\n",
       "   'budget_pelicula': 90000000,\n",
       "   'revenue_pelicula': 497366869.0},\n",
       "  3: {'titulo': 'Luxo Jr.',\n",
       "   'anio': 1986,\n",
       "   'retorno_pelicula': 0.0,\n",
       "   'budget_pelicula': 0,\n",
       "   'revenue_pelicula': 0.0},\n",
       "  4: {'titulo': 'Cars',\n",
       "   'anio': 2006,\n",
       "   'retorno_pelicula': 3.849859575,\n",
       "   'budget_pelicula': 120000000,\n",
       "   'revenue_pelicula': 461983149.0},\n",
       "  5: {'titulo': 'Cars 2',\n",
       "   'anio': 2011,\n",
       "   'retorno_pelicula': 2.79926198,\n",
       "   'budget_pelicula': 200000000,\n",
       "   'revenue_pelicula': 559852396.0},\n",
       "  6: {'titulo': 'Tin Toy',\n",
       "   'anio': 1988,\n",
       "   'retorno_pelicula': 0.0,\n",
       "   'budget_pelicula': 0,\n",
       "   'revenue_pelicula': 0.0},\n",
       "  7: {'titulo': \"Red's Dream\",\n",
       "   'anio': 1987,\n",
       "   'retorno_pelicula': 0.0,\n",
       "   'budget_pelicula': 0,\n",
       "   'revenue_pelicula': 0.0},\n",
       "  8: {'titulo': 'Knick Knack',\n",
       "   'anio': 1989,\n",
       "   'retorno_pelicula': 0.0,\n",
       "   'budget_pelicula': 0,\n",
       "   'revenue_pelicula': 0.0},\n",
       "  9: {'titulo': 'Mater and the Ghostlight',\n",
       "   'anio': 2006,\n",
       "   'retorno_pelicula': 0.0,\n",
       "   'budget_pelicula': 0,\n",
       "   'revenue_pelicula': 0.0}}}"
      ]
     },
     "execution_count": 6,
     "metadata": {},
     "output_type": "execute_result"
    }
   ],
   "source": [
    "nombre_director = 'John Lasseter'\n",
    "# Filter the crew DataFrame to include only rows for the given director\n",
    "director_df = df_crew[df_crew['name'].str.lower() == nombre_director.lower()]\n",
    "\n",
    "director_df = director_df[director_df['job'] == 'Director']\n",
    "\n",
    "# Join the director_df with the movies_df on the 'id' column\n",
    "joined_df = director_df.merge(df_movies,\n",
    "                        left_on='movie_id',\n",
    "                        right_on='id')\n",
    "\n",
    "# Calculate the sum of the 'return' column\n",
    "return_sum = joined_df['return'].sum()\n",
    "\n",
    "# Calculate the number of movies directed by the director\n",
    "movie_count = director_df['movie_id'].count()\n",
    "\n",
    "# Calculate the average return per movie\n",
    "average_return = return_sum / movie_count\n",
    "\n",
    "# Return a DataFrame with the movie name, release date, return, budget, and revenue\n",
    "director_name = director_df['name'].iloc[0]\n",
    "movie_data_df = joined_df[['title', 'release_year', 'return', 'budget', 'revenue']]\n",
    "# Rename the columns\n",
    "movie_data_df.columns = ['titulo', 'anio', 'retorno_pelicula', 'budget_pelicula', 'revenue_pelicula']\n",
    "# Convert each row to a dictionary\n",
    "dict_list = movie_data_df.to_dict(orient='index')\n",
    "\n",
    "answer = {'director':director_name,\n",
    "        'retorno_total_director':return_sum,\n",
    "        'peliculas': dict_list}\n",
    "\n",
    "answer"
   ]
  },
  {
   "cell_type": "code",
   "execution_count": null,
   "metadata": {},
   "outputs": [],
   "source": []
  }
 ],
 "metadata": {
  "kernelspec": {
   "display_name": "Python 3",
   "language": "python",
   "name": "python3"
  },
  "language_info": {
   "codemirror_mode": {
    "name": "ipython",
    "version": 3
   },
   "file_extension": ".py",
   "mimetype": "text/x-python",
   "name": "python",
   "nbconvert_exporter": "python",
   "pygments_lexer": "ipython3",
   "version": "3.10.2"
  },
  "orig_nbformat": 4
 },
 "nbformat": 4,
 "nbformat_minor": 2
}
